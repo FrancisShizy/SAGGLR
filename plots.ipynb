{
 "cells": [
  {
   "cell_type": "markdown",
   "metadata": {},
   "source": [
    "# Plots for this paper\n",
    "\n",
    "This files provide instructions for two areas of feature attribution comparison:\n",
    "- Global direction scores\n",
    "- Atom-level coloring accuracy\n"
   ]
  },
  {
   "cell_type": "markdown",
   "metadata": {},
   "source": [
    "## Global Direction comparation"
   ]
  },
  {
   "cell_type": "code",
   "execution_count": null,
   "metadata": {},
   "outputs": [],
   "source": [
    "import dill\n",
    "from rdkit import Chem\n",
    "from rdkit.Chem import Draw\n",
    "from rdkit.Chem.Draw import rdMolDraw2D\n",
    "import matplotlib.pyplot as plt\n",
    "import matplotlib.colors as mcolors\n",
    "import matplotlib.ticker as mticker\n",
    "from IPython.display import SVG\n",
    "import numpy as np\n",
    "import pandas as pd\n",
    "import seaborn as sns\n",
    "from scipy.stats import wilcoxon"
   ]
  },
  {
   "cell_type": "code",
   "execution_count": null,
   "metadata": {},
   "outputs": [],
   "source": [
    "# Group lasso vs. non for gradInput\n",
    "global_dir_gradinput_1O42_843 = pd.read_csv(\"./global_dir_compare/gradinput/global_dir_gradinput_1O42-843.csv\")\n",
    "data_x = global_dir_gradinput_1O42_843[\"global_dir_test_MSE_L_gradinput_1O42-843\"]\n",
    "data_y = global_dir_gradinput_1O42_843[\"global_dir_test_MSE_N_GL_gradinput_1O42-843\"]\n",
    "# Scatter plot with connecting lines\n",
    "# Perform the Wilcoxon signed-rank test\n",
    "stat, p = wilcoxon(data_x, data_y)\n",
    "change_xy = sum((data_y-data_x)/data_x)/len(data_x)*100\n",
    "z_values = np.arange(50, 100, 5)\n",
    "plt.figure(figsize=(10, 6))\n",
    "plt.scatter(z_values, data_x, color='blue', label='w/o group lasso')\n",
    "plt.scatter(z_values, data_y, color='red', label='w. group lasso')\n",
    "plt.plot(z_values, data_x, 'b--', alpha=0.5)\n",
    "plt.plot(z_values, data_y, 'r-', alpha=0.5)\n",
    "plt.title('Global direction (w. vs. w/o group lasso) across different minimum MCS %', fontsize=14)\n",
    "plt.suptitle(\"GradInput\", fontsize=16)\n",
    "plt.xlabel('Minimum shared MCS %', fontsize=14)\n",
    "plt.ylabel('Global direction scores', fontsize=14)\n",
    "text_string = (f\"Averaged increase: {round(change_xy, 2)}%\\n\"\n",
    "               f\"p-values (Wilcoxon): {str(round(p, 4))}\")\n",
    "plt.text(72, 0.51, text_string, fontsize=12, color='green', \n",
    "        bbox=dict(facecolor='white', alpha=0.5, edgecolor='black', boxstyle='round,pad=0.5'))\n",
    "plt.legend()\n",
    "plt.grid(True)\n",
    "plt.show()"
   ]
  },
  {
   "cell_type": "markdown",
   "metadata": {},
   "source": [
    "## Plot atom-level feature attribution"
   ]
  },
  {
   "cell_type": "code",
   "execution_count": null,
   "metadata": {},
   "outputs": [],
   "source": [
    "def SVGplot(hetero_data, iorj, smile, pair_id, mask_data, mask_pair, mask_id):\n",
    "    # Load your molecule, for example using a SMILES string\n",
    "    smiles=hetero_data[pair_id][iorj][smile]\n",
    "    mol = Chem.MolFromSmiles(smiles)\n",
    "    # Define your mask vector (it should have the same length as the number of atoms in the molecule)\n",
    "    mask_vector = mask_data[mask_pair][mask_id]\n",
    "    # Create a dictionary of colors for each atom\n",
    "    atom_colors = {i: value_to_color(mask_vector[i]) for i in range(len(mask_vector))}\n",
    "    highlight_radii = {i: 0.5 for i in range(mol.GetNumAtoms())} \n",
    "    # Drawing options\n",
    "    drawer = rdMolDraw2D.MolDraw2DSVG(400, 400)\n",
    "    opts = drawer.drawOptions()\n",
    "\n",
    "    for i in range(mol.GetNumAtoms()):\n",
    "        opts.atomLabels[i] = mol.GetAtomWithIdx(i).GetSymbol()\n",
    "\n",
    "    # Draw the molecule with highlighted atoms\n",
    "    drawer.DrawMolecule(mol, highlightAtoms=range(mol.GetNumAtoms()), highlightAtomColors=atom_colors,  highlightAtomRadii=highlight_radii)\n",
    "    drawer.FinishDrawing()\n",
    "    # Convert the drawing to an SVG\n",
    "    svg = drawer.GetDrawingText()\n",
    "    return svg"
   ]
  },
  {
   "cell_type": "code",
   "execution_count": null,
   "metadata": {},
   "outputs": [],
   "source": [
    "def create_color_map_legend():\n",
    "    # Create a figure and axis\n",
    "    fig, ax = plt.subplots(figsize=(6, 1))\n",
    "    fig.subplots_adjust(bottom=0.5)\n",
    "\n",
    "    # Set up the colormap\n",
    "    cmap = plt.get_cmap('coolwarm')\n",
    "    norm = mcolors.Normalize(vmin=-1, vmax=1)\n",
    "\n",
    "    # Create a colorbar\n",
    "    cb = plt.colorbar(plt.cm.ScalarMappable(norm=norm, cmap=cmap), cax=ax, orientation='horizontal')\n",
    "    cb.set_label('Feature Attribution')\n",
    "\n",
    "    # Save the color map legend as an SVG\n",
    "    plt.savefig('color_map_legend.svg', format='svg')\n",
    "\n",
    "create_color_map_legend()"
   ]
  },
  {
   "cell_type": "code",
   "execution_count": null,
   "metadata": {},
   "outputs": [],
   "source": [
    "with open('./colors/ig/1O42-843/w_group_lasso/1O42-843_seed_1337_nn_MSE+N_mean_ig_hiddenDim_32_GL_0.001_test.pt', 'rb') as file:\n",
    "    mask_data = dill.load(file)\n",
    "with open('.code/data/1O42-843/1O42-843_seed_1337_test.pt', 'rb') as file:\n",
    "    hetero_data = dill.load(file)\n",
    "    \n",
    "svgplot = SVGplot(hetero_data, \"data_j\", \"smiles\", 0, mask_data, 0, 1)\n",
    "from IPython.display import SVG\n",
    "SVG(svgplot)"
   ]
  },
  {
   "cell_type": "markdown",
   "metadata": {},
   "source": []
  }
 ],
 "metadata": {
  "language_info": {
   "name": "python"
  }
 },
 "nbformat": 4,
 "nbformat_minor": 2
}
